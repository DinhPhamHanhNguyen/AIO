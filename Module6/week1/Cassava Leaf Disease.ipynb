{
 "cells": [
  {
   "cell_type": "markdown",
   "metadata": {},
   "source": [
    "Cassava Leaf Disease"
   ]
  },
  {
   "cell_type": "markdown",
   "metadata": {},
   "source": [
    "Import libs"
   ]
  },
  {
   "cell_type": "code",
   "execution_count": 6,
   "metadata": {},
   "outputs": [],
   "source": [
    "# For interacting with the operating system (e.g., file paths, environment variables)\n",
    "import os\n",
    "import random  # For generating random numbers\n",
    "import numpy as np  # For numerical computations and handling arrays\n",
    "\n",
    "import torch  # The PyTorch library\n",
    "import torch.nn as nn  # For building neural networks\n",
    "import torch.optim as optim  # For optimization algorithms (e.g., SGD, Adam)\n",
    "import torch.nn.functional as F  # For functional operations on tensors\n",
    "import torch.utils.data as data  # For data handling and dataset utilities\n",
    "\n",
    "# For data augmentation and preprocessing\n",
    "import torchvision.transforms as transforms\n",
    "import torchvision.datasets as datasets\n",
    "from torchsummary import summary\n",
    "import matplotlib.pyplot as plt\n",
    "from PIL import Image"
   ]
  },
  {
   "cell_type": "markdown",
   "metadata": {},
   "source": [
    "Load Dataset"
   ]
  },
  {
   "cell_type": "code",
   "execution_count": 22,
   "metadata": {},
   "outputs": [],
   "source": [
    "data_paths = {\n",
    "    'train': './train',\n",
    "    'valid': './validation',\n",
    "    'test': './test'\n",
    "}"
   ]
  }
 ],
 "metadata": {
  "kernelspec": {
   "display_name": "Python 3",
   "language": "python",
   "name": "python3"
  },
  "language_info": {
   "codemirror_mode": {
    "name": "ipython",
    "version": 3
   },
   "file_extension": ".py",
   "mimetype": "text/x-python",
   "name": "python",
   "nbconvert_exporter": "python",
   "pygments_lexer": "ipython3",
   "version": "3.12.3"
  }
 },
 "nbformat": 4,
 "nbformat_minor": 2
}
