{
 "cells": [
  {
   "cell_type": "code",
   "execution_count": 28,
   "metadata": {},
   "outputs": [],
   "source": [
    "import numpy as np\n",
    "import cv2\n",
    "\n",
    "\n",
    "# Read and resize images\n",
    "bg1_image = cv2.imread('GreenBackground.png', 1)\n",
    "bg1_image = cv2.resize(bg1_image, (678, 381))\n",
    "\n",
    "ob_image = cv2.imread('Object.png', 1)\n",
    "ob_image = cv2.resize(ob_image, (678, 381))\n",
    "\n",
    "bg2_image = cv2.imread('NewBackground.jpg', 1)\n",
    "bg2_image = cv2.resize(bg2_image, (678, 381))\n",
    "\n",
    "# Display images\n",
    "cv2.imshow('Green Background', bg1_image)\n",
    "cv2.imshow('Object', ob_image)\n",
    "cv2.imshow('New Background', bg2_image)\n",
    "\n",
    "# Wait for a key press\n",
    "cv2.waitKey(0)\n",
    "\n",
    "# Close all windows\n",
    "cv2.destroyAllWindows()"
   ]
  },
  {
   "cell_type": "code",
   "execution_count": 29,
   "metadata": {},
   "outputs": [],
   "source": [
    "def computeDifference(bg_img, input_img):\n",
    "    difference_three_channel = cv2.absdiff(bg_img, input_img)\n",
    "    difference_single_channel = np.sum(difference_three_channel, axis=2) / 3.0\n",
    "    difference_single_channel = difference_single_channel.astype('uint8')\n",
    "\n",
    "    return difference_single_channel"
   ]
  },
  {
   "cell_type": "code",
   "execution_count": 30,
   "metadata": {},
   "outputs": [],
   "source": [
    "difference_single_channel = computeDifference(bg1_image, ob_image)\n",
    "cv2.imshow('Difference Single Channel', difference_single_channel)\n",
    "cv2.waitKey(0)\n",
    "cv2.destroyAllWindows()"
   ]
  },
  {
   "cell_type": "code",
   "execution_count": 31,
   "metadata": {},
   "outputs": [],
   "source": [
    "def computeBinaryMask(difference_single_channel):\n",
    "    difference_binary = np.where(difference_single_channel >= 15, 255, 0)\n",
    "    difference_binary = np.stack((difference_binary,)*3, axis=-1)\n",
    "    return difference_binary"
   ]
  },
  {
   "cell_type": "code",
   "execution_count": 32,
   "metadata": {},
   "outputs": [],
   "source": [
    "binary_mask = computeBinaryMask(difference_single_channel)\n",
    "cv2.imshow('Binary Mask', binary_mask)\n",
    "cv2.waitKey(0)\n",
    "cv2.destroyAllWindows()"
   ]
  },
  {
   "cell_type": "code",
   "execution_count": 33,
   "metadata": {},
   "outputs": [],
   "source": [
    "def replaceBackGround(bg1_image, bg2_image, ob_image):\n",
    "    difference_single_channel = computeDifference(bg1_image, ob_image)\n",
    "    binary_mask = computeBinaryMask(difference_single_channel)\n",
    "\n",
    "    output = np.where(binary_mask == 255, ob_image, bg2_image)\n",
    "\n",
    "    return output"
   ]
  },
  {
   "cell_type": "code",
   "execution_count": 34,
   "metadata": {},
   "outputs": [],
   "source": [
    "output = replaceBackGround(bg1_image, bg2_image, ob_image)\n",
    "\n",
    "cv2.imshow('Output', output)\n",
    "cv2.waitKey(0)\n",
    "cv2.destroyAllWindows()"
   ]
  }
 ],
 "metadata": {
  "kernelspec": {
   "display_name": "Python 3",
   "language": "python",
   "name": "python3"
  },
  "language_info": {
   "codemirror_mode": {
    "name": "ipython",
    "version": 3
   },
   "file_extension": ".py",
   "mimetype": "text/x-python",
   "name": "python",
   "nbconvert_exporter": "python",
   "pygments_lexer": "ipython3",
   "version": "3.12.3"
  }
 },
 "nbformat": 4,
 "nbformat_minor": 2
}
