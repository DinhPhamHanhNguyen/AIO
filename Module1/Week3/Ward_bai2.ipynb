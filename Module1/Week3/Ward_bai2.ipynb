{
 "cells": [
  {
   "cell_type": "code",
   "execution_count": 1,
   "metadata": {},
   "outputs": [],
   "source": [
    "class Person:\n",
    "    def __init__(self, name, yob):\n",
    "        self._name = name\n",
    "        self._yob = yob\n",
    "        \n",
    "    def describe(self):\n",
    "       return f\"Name: {self._name} - YoB: {self._yob}\"\n",
    "        "
   ]
  },
  {
   "cell_type": "code",
   "execution_count": 2,
   "metadata": {},
   "outputs": [],
   "source": [
    "class Student(Person):\n",
    "    def __init__(self, name, yob, grade):\n",
    "        super().__init__(name, yob)\n",
    "        self.__grade = grade\n",
    "\n",
    "    def describe(self):\n",
    "       print( f\"Student - {super().describe()} - Grade: {self.__grade}\")"
   ]
  },
  {
   "cell_type": "code",
   "execution_count": 3,
   "metadata": {},
   "outputs": [],
   "source": [
    "class Teacher(Person):\n",
    "    def __init__(self, name, yob, subject):\n",
    "        super().__init__(name, yob)\n",
    "        self.__subject = subject\n",
    "    \n",
    "    def describe(self):\n",
    "       print(f\"Teacher - {super().describe()} - Grade: {self.__subject}\")\n",
    "    "
   ]
  },
  {
   "cell_type": "code",
   "execution_count": 4,
   "metadata": {},
   "outputs": [],
   "source": [
    "class Doctor(Person):\n",
    "    def __init__(self, name, yob, specialist):\n",
    "        super().__init__(name, yob)\n",
    "        self.__specialist = specialist\n",
    "\n",
    "    def describe(self):\n",
    "       print(f\"Doctor - {super().describe()} - Grade: {self.__specialist}\")"
   ]
  },
  {
   "cell_type": "code",
   "execution_count": 5,
   "metadata": {},
   "outputs": [],
   "source": [
    "class Ward:\n",
    "    def __init__(self, name) :\n",
    "        self.__name = name\n",
    "        self.__population = []\n",
    "    \n",
    "    def add_person(self, person ):\n",
    "        self.__population.append(person)\n",
    "    \n",
    "    def describe(self):\n",
    "        print(f\"Ward Name: {self.__name}\")\n",
    "        for person in self.__population:\n",
    "            person.describe()\n",
    "    \n",
    "    def count_doctor(self):\n",
    "        count =0\n",
    "        for person in self.__population:\n",
    "            if isinstance(person, Doctor):\n",
    "                count+=1\n",
    "        return count\n",
    "    \n",
    "    def sort_age(self):\n",
    "        self.__population.sort(key=lambda person: person._yob, reverse=True)\n",
    "    \n",
    "    def compute_average(self):\n",
    "        sum =0\n",
    "        count =0\n",
    "        for person in self.__population:\n",
    "            if isinstance(person, Teacher):\n",
    "               sum+= person._yob\n",
    "               count+= 1\n",
    "        return sum/count\n",
    "               "
   ]
  },
  {
   "cell_type": "code",
   "execution_count": 6,
   "metadata": {},
   "outputs": [
    {
     "name": "stdout",
     "output_type": "stream",
     "text": [
      "Student - Name:  studentA  - YoB: 2010 - Grade: 7\n"
     ]
    }
   ],
   "source": [
    "student1 = Student ( name =\" studentA \", yob =2010 , grade =\"7\")\n",
    "student1 . describe ()\n"
   ]
  },
  {
   "cell_type": "code",
   "execution_count": 7,
   "metadata": {},
   "outputs": [
    {
     "name": "stdout",
     "output_type": "stream",
     "text": [
      "Teacher - Name:  teacherA  - YoB: 1969 - Grade:  Math \n"
     ]
    }
   ],
   "source": [
    "teacher1 = Teacher ( name =\" teacherA \", yob =1969 , subject =\" Math \")\n",
    "teacher1 . describe ()"
   ]
  },
  {
   "cell_type": "code",
   "execution_count": 8,
   "metadata": {},
   "outputs": [
    {
     "name": "stdout",
     "output_type": "stream",
     "text": [
      "Doctor - Name:  doctorA  - YoB: 1945 - Grade:  Endocrinologists \n"
     ]
    }
   ],
   "source": [
    "doctor1 = Doctor ( name =\" doctorA \", yob =1945 , specialist =\" Endocrinologists \")\n",
    "doctor1 . describe ()"
   ]
  },
  {
   "cell_type": "code",
   "execution_count": 9,
   "metadata": {},
   "outputs": [
    {
     "name": "stdout",
     "output_type": "stream",
     "text": [
      "Ward Name:  Ward1 \n",
      "Student - Name:  studentA  - YoB: 2010 - Grade: 7\n",
      "Teacher - Name:  teacherA  - YoB: 1969 - Grade:  Math \n",
      "Teacher - Name:  teacherB  - YoB: 1995 - Grade:  History \n",
      "Doctor - Name:  doctorA  - YoB: 1945 - Grade:  Endocrinologists \n",
      "Doctor - Name:  doctorB  - YoB: 1975 - Grade:  Cardiologists \n"
     ]
    }
   ],
   "source": [
    "teacher2 = Teacher(name=\" teacherB \", yob=1995, subject=\" History \")\n",
    "doctor2 = Doctor(name=\" doctorB \", yob=1975, specialist=\" Cardiologists \")\n",
    "ward1 = Ward(name=\" Ward1 \")\n",
    "ward1 . add_person(student1)\n",
    "ward1 . add_person(teacher1)\n",
    "ward1 . add_person(teacher2)\n",
    "ward1 . add_person(doctor1)\n",
    "ward1 . add_person(doctor2)\n",
    "ward1 . describe()"
   ]
  },
  {
   "cell_type": "code",
   "execution_count": 10,
   "metadata": {},
   "outputs": [
    {
     "name": "stdout",
     "output_type": "stream",
     "text": [
      "Number of doctors : 2\n"
     ]
    }
   ],
   "source": [
    "print (f\"Number of doctors : { ward1 . count_doctor ()}\")"
   ]
  },
  {
   "cell_type": "code",
   "execution_count": 11,
   "metadata": {},
   "outputs": [
    {
     "name": "stdout",
     "output_type": "stream",
     "text": [
      "After sorting Age of Ward1 people \n",
      "Ward Name:  Ward1 \n",
      "Student - Name:  studentA  - YoB: 2010 - Grade: 7\n",
      "Teacher - Name:  teacherB  - YoB: 1995 - Grade:  History \n",
      "Doctor - Name:  doctorB  - YoB: 1975 - Grade:  Cardiologists \n",
      "Teacher - Name:  teacherA  - YoB: 1969 - Grade:  Math \n",
      "Doctor - Name:  doctorA  - YoB: 1945 - Grade:  Endocrinologists \n"
     ]
    }
   ],
   "source": [
    "print (\"After sorting Age of Ward1 people \")\n",
    "ward1 . sort_age ()\n",
    "ward1 . describe ()"
   ]
  },
  {
   "cell_type": "code",
   "execution_count": 12,
   "metadata": {},
   "outputs": [
    {
     "name": "stdout",
     "output_type": "stream",
     "text": [
      "Average year of birth ( teachers ): 1982.0\n"
     ]
    }
   ],
   "source": [
    "print (f\"Average year of birth ( teachers ): { ward1 . compute_average ()}\")"
   ]
  }
 ],
 "metadata": {
  "kernelspec": {
   "display_name": "Python 3",
   "language": "python",
   "name": "python3"
  },
  "language_info": {
   "codemirror_mode": {
    "name": "ipython",
    "version": 3
   },
   "file_extension": ".py",
   "mimetype": "text/x-python",
   "name": "python",
   "nbconvert_exporter": "python",
   "pygments_lexer": "ipython3",
   "version": "3.12.3"
  }
 },
 "nbformat": 4,
 "nbformat_minor": 2
}
